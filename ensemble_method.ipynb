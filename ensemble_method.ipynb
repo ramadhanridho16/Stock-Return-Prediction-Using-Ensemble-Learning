{
 "cells": [
  {
   "cell_type": "code",
   "execution_count": 10,
   "metadata": {},
   "outputs": [],
   "source": [
    "# Load libraries\n",
    "import numpy as np\n",
    "import pandas as pd\n",
    "import pandas_datareader.data as web\n",
    "# import pandas_datareader.yahoo.daily as yahoo\n",
    "from matplotlib import pyplot\n",
    "from pandas.plotting import scatter_matrix\n",
    "import seaborn as sns\n",
    "from sklearn.preprocessing import StandardScaler\n",
    "\n",
    "from sklearn.model_selection import train_test_split\n",
    "from sklearn.model_selection import KFold\n",
    "from sklearn.model_selection import cross_val_score\n",
    "from sklearn.model_selection import GridSearchCV\n",
    "\n",
    "from sklearn.linear_model import LinearRegression\n",
    "from sklearn.linear_model import Lasso\n",
    "from sklearn.linear_model import ElasticNet\n",
    "from sklearn.tree import DecisionTreeRegressor\n",
    "from sklearn.neighbors import KNeighborsRegressor\n",
    "from sklearn.svm import SVR\n",
    "from sklearn.ensemble import RandomForestRegressor\n",
    "from sklearn.ensemble import GradientBoostingRegressor\n",
    "from sklearn.ensemble import ExtraTreesRegressor\n",
    "from sklearn.ensemble import AdaBoostRegressor\n",
    "from sklearn.ensemble import VotingRegressor\n",
    "from sklearn.neural_network import MLPRegressor\n",
    "\n",
    "#Libraries for Statistical Models\n",
    "# import statsmodels.api as sm\n",
    "\n",
    "#Libraries for Saving the Model\n",
    "from pickle import dump\n",
    "from pickle import load\n",
    "\n",
    "# Error Metrics\n",
    "from sklearn.metrics import mean_squared_error\n",
    "\n",
    "#Plotting\n",
    "from pandas.plotting import scatter_matrix\n",
    "# from statsmodels.graphics.tsaplots import plot_acf\n",
    "\n",
    "# Plotly\n",
    "from itertools import cycle\n",
    "import plotly.graph_objects as go\n",
    "import plotly.express as px\n",
    "from plotly.subplots import make_subplots\n"
   ]
  },
  {
   "cell_type": "code",
   "execution_count": 11,
   "metadata": {},
   "outputs": [],
   "source": [
    "#Disable the warnings\n",
    "import warnings\n",
    "warnings.filterwarnings('ignore')\n"
   ]
  },
  {
   "attachments": {},
   "cell_type": "markdown",
   "metadata": {},
   "source": [
    "# Loading the Data"
   ]
  },
  {
   "cell_type": "code",
   "execution_count": 12,
   "metadata": {},
   "outputs": [],
   "source": [
    "import yfinance as yf\n",
    "from datetime import datetime, timedelta\n",
    "from pandas_datareader.fred import FredReader\n",
    "\n",
    "# get data for the past year\n",
    "day = datetime(2022, 12, 31)\n",
    "start = day - timedelta(days=365.3*10)\n",
    "end = day"
   ]
  },
  {
   "cell_type": "code",
   "execution_count": 13,
   "metadata": {},
   "outputs": [
    {
     "name": "stdout",
     "output_type": "stream",
     "text": [
      "[*********************100%***********************]  3 of 3 completed\n"
     ]
    }
   ],
   "source": [
    "stk_data = yf.download(\n",
    "    tickers=\"MSFT IBM GOOGL\",\n",
    "    start=start,\n",
    "    end=end,\n",
    ")"
   ]
  },
  {
   "cell_type": "code",
   "execution_count": 14,
   "metadata": {},
   "outputs": [],
   "source": [
    "ccy_tickers = ['DEXJPUS', 'DEXUSUK']\n",
    "idx_tickers = ['SP500', 'DJIA', 'VIXCLS']\n",
    "\n",
    "ccy_data = FredReader(\n",
    "    symbols=ccy_tickers, \n",
    "    start=start, \n",
    "    end=end,\n",
    "    )\n",
    "idx_data = FredReader(\n",
    "    symbols=idx_tickers, \n",
    "    start=start, \n",
    "    end=end,\n",
    "    )"
   ]
  },
  {
   "cell_type": "code",
   "execution_count": 15,
   "metadata": {},
   "outputs": [],
   "source": [
    "return_period = 5"
   ]
  },
  {
   "cell_type": "code",
   "execution_count": 16,
   "metadata": {},
   "outputs": [],
   "source": [
    "Y = np.log(stk_data.loc[:, 'Adj Close']['MSFT']).diff(\n",
    "    return_period).shift(-return_period)\n",
    "Y.name = Y.name +'_pred'"
   ]
  },
  {
   "cell_type": "code",
   "execution_count": 17,
   "metadata": {},
   "outputs": [],
   "source": [
    "X1 = stk_data.loc[:, 'Adj Close']\n",
    "X1.drop(columns=['MSFT'], inplace=True)\n",
    "X1 = np.log(X1).diff(return_period)\n",
    "X1.columns = X1.columns\n"
   ]
  },
  {
   "cell_type": "code",
   "execution_count": 18,
   "metadata": {},
   "outputs": [],
   "source": [
    "ccy_data = ccy_data.read()\n",
    "idx_data = idx_data.read()\n"
   ]
  },
  {
   "cell_type": "code",
   "execution_count": 19,
   "metadata": {},
   "outputs": [],
   "source": [
    "X2 = np.log(ccy_data).diff(return_period)\n",
    "X3 = np.log(idx_data).diff(return_period)\n"
   ]
  },
  {
   "cell_type": "code",
   "execution_count": 20,
   "metadata": {},
   "outputs": [],
   "source": [
    "X4 = pd.concat([np.log(stk_data.loc[:, 'Adj Close']['MSFT']) .diff(i) for i in [\n",
    "               return_period, return_period*3, return_period*6, return_period*12]], axis=1).dropna()\n",
    "X4.columns = ['MSFT_DT', 'MSFT_3DT', 'MSFT_6DT', 'MSFT_12DT']\n"
   ]
  },
  {
   "cell_type": "code",
   "execution_count": 21,
   "metadata": {},
   "outputs": [],
   "source": [
    "X = pd.concat([X1, X2, X3, X4], axis=1)\n",
    "\n",
    "dataset = pd.concat([Y, X], axis=1).dropna().iloc[::return_period, :]\n",
    "Y = dataset.loc[:, Y.name]\n",
    "X = dataset.loc[:, X.columns]\n"
   ]
  },
  {
   "attachments": {},
   "cell_type": "markdown",
   "metadata": {},
   "source": [
    "# Evaluasi Algoritma dan Models"
   ]
  },
  {
   "attachments": {},
   "cell_type": "markdown",
   "metadata": {},
   "source": [
    "### Train Test Split dan Metrics Evaluation"
   ]
  },
  {
   "cell_type": "code",
   "execution_count": 22,
   "metadata": {},
   "outputs": [],
   "source": [
    "msft_pred = np.array(Y).reshape(-1,1) # variabel msft_pred\n",
    "\n",
    "validation_size = 0.2\n",
    "\n",
    "train_size = int(len(X) * (1-validation_size))\n",
    "X_train, X_test = X[0:train_size], X[train_size:len(X)]\n",
    "Y_train, Y_test = Y[0:train_size], Y[train_size:len(X)]\n"
   ]
  },
  {
   "cell_type": "code",
   "execution_count": 23,
   "metadata": {},
   "outputs": [],
   "source": [
    "num_folds = 10\n",
    "seed = 7\n",
    "\n",
    "scoring = 'neg_mean_squared_error'"
   ]
  },
  {
   "cell_type": "code",
   "execution_count": 24,
   "metadata": {},
   "outputs": [],
   "source": [
    "models = []\n",
    "\n",
    "# Ensemble Method\n",
    "\n",
    "# Boosting methods\n",
    "models.append(('ABR', AdaBoostRegressor()))\n",
    "models.append(('GBR', GradientBoostingRegressor()))\n",
    "# Bagging methods\n",
    "models.append(('RFR', RandomForestRegressor()))\n",
    "\n",
    "models.append(('SVR', SVR()))\n",
    "# models.append(('MLP', MLPRegressor()))\n",
    "# Ensemble methods using VotingRegressor\n",
    "models.append(('VR', VotingRegressor([('ABR', AdaBoostRegressor()), ('GBR', GradientBoostingRegressor()), ('RFR', RandomForestRegressor()), ('SVR', SVR())])))"
   ]
  },
  {
   "cell_type": "code",
   "execution_count": 25,
   "metadata": {},
   "outputs": [
    {
     "name": "stdout",
     "output_type": "stream",
     "text": [
      "ABR: 223081067200.655609\n",
      "GBR: 496439848268.571167\n",
      "RFR: 259792622736.560730\n",
      "SVR: 484465381963.956909\n",
      "VR: 116157484135.059357\n"
     ]
    }
   ],
   "source": [
    "names = []\n",
    "kfold_results = []\n",
    "test_results = []\n",
    "train_results = []\n",
    "for name, model in models:\n",
    "    names.append(name)\n",
    "\n",
    "    ## K Fold analysis:\n",
    "\n",
    "    kfold = KFold(n_splits=num_folds, random_state=seed, shuffle=True)\n",
    "    #converted mean square error to positive. The lower the beter\n",
    "    cv_results = -1 * \\\n",
    "        cross_val_score(model, X_train, Y_train, cv=kfold, scoring='neg_mean_absolute_percentage_error')\n",
    "    kfold_results.append(cv_results)\n",
    "\n",
    "    # Full Training period\n",
    "    res = model.fit(X_train, Y_train)\n",
    "\n",
    "    # print(res.predict(X_train))\n",
    "    train_predict = res.predict(X_train)\n",
    "    train_result = mean_squared_error(Y_train, res.predict(X_train))\n",
    "    train_results.append(train_result)\n",
    "\n",
    "    # Test results\n",
    "    # print(res.predict(X_test))\n",
    "    test_predict = res.predict(X_test)\n",
    "    test_result = mean_squared_error(Y_test, res.predict(X_test))\n",
    "    test_results.append(test_result)\n",
    "\n",
    "    # # Plot Visualisasi Arima\n",
    "    # # Using nan to fill column\n",
    "    # trainPredictPlot = np.empty_like(msft_pred)\n",
    "    # trainPredictPlot[:, :] = np.nan\n",
    "    # trainPredictPlot[0:len(train_predict), :] = np.array(train_predict).reshape(-1, 1)\n",
    "    # # print(\"Train predicted data: \", trainPredictPlot.shape)\n",
    "\n",
    "    # # Shift test predictions for plotting\n",
    "    # testPredictPlot = np.empty_like(msft_pred)\n",
    "    # testPredictPlot[:, :] = np.nan\n",
    "    # testPredictPlot[len(train_predict):len(msft_pred), :] = np.array(test_predict).reshape(-1, 1)\n",
    "    # # print(\"Test predicted data: \", testPredictPlot.shape)\n",
    "\n",
    "    # date_column = Y.index.to_pydatetime()\n",
    "\n",
    "    # nama = cycle(['Original Stock Return', 'Prediksi Training', 'Prediksi Testing'])\n",
    "    # plotdf = pd.DataFrame({'date': date_column, 'original': Y, 'train_predicted':trainPredictPlot.reshape(1, -1)[0].tolist(), 'test_predicted': testPredictPlot.reshape(1, -1)[0].tolist()})\n",
    "    # # Visualize using plotly\n",
    "    # fig = px.line(plotdf, x=plotdf['date'], y=[plotdf['original'], plotdf['train_predicted'], plotdf['test_predicted']], labels={'value':'Stock Return(%)', 'date':'Date'})\n",
    "    # fig.update_layout(title_text=f'Perbandingan Prediksi Stock Return pada {name}', plot_bgcolor='white', font_size=15, font_color='black', legend_title_text='Close Price')\n",
    "    # fig.for_each_trace(lambda t: t.update(name = next(nama)))\n",
    "\n",
    "    # fig.update_xaxes(showgrid=False)\n",
    "    # fig.update_yaxes(showgrid=False)\n",
    "    # fig.show()\n",
    "\n",
    "    # msg = \"%s: %f (%f) %f %f\" % (name, cv_results.mean(),\n",
    "    #                              cv_results.std(), train_result, test_result)\n",
    "\n",
    "    msg = \"%s: %f\" % (name, cv_results.mean())\n",
    "    print(msg)\n"
   ]
  },
  {
   "cell_type": "code",
   "execution_count": 26,
   "metadata": {},
   "outputs": [
    {
     "data": {
      "image/png": "[encoded data removed]",
      "text/plain": [
       "<Figure size 1080x576 with 1 Axes>"
      ]
     },
     "metadata": {
      "needs_background": "light"
     },
     "output_type": "display_data"
    }
   ],
   "source": [
    "fig = pyplot.figure()\n",
    "fig.suptitle('Perbandingan Algoritma : Hasil Kfold')\n",
    "ax = fig.add_subplot(111)\n",
    "pyplot.boxplot(kfold_results)\n",
    "ax.set_xticklabels(names)\n",
    "fig.set_size_inches(15, 8)\n",
    "pyplot.show()\n"
   ]
  },
  {
   "cell_type": "code",
   "execution_count": 27,
   "metadata": {},
   "outputs": [
    {
     "data": {
      "image/png": "[encoded data removed]",
      "text/plain": [
       "<Figure size 1080x576 with 1 Axes>"
      ]
     },
     "metadata": {
      "needs_background": "light"
     },
     "output_type": "display_data"
    }
   ],
   "source": [
    "# Perbandingan algoritma\n",
    "fig = pyplot.figure()\n",
    "\n",
    "ind = np.arange(len(names))  # the x locations for the groups\n",
    "width = 0.35  # the width of the bars\n",
    "\n",
    "fig.suptitle('Perbandingan Algoritma (Mean Square Error)')\n",
    "ax = fig.add_subplot(111)\n",
    "pyplot.bar(ind - width/2, train_results,  width=width, label='Train Error')\n",
    "pyplot.bar(ind + width/2, test_results, width=width, label='Test Error')\n",
    "fig.set_size_inches(15, 8)\n",
    "pyplot.legend()\n",
    "ax.set_xticks(ind)\n",
    "ax.set_xticklabels(names)\n",
    "pyplot.show()"
   ]
  },
  {
   "cell_type": "code",
   "execution_count": null,
   "metadata": {},
   "outputs": [],
   "source": []
  }
 ],
 "metadata": {
  "kernelspec": {
   "display_name": "regression-model",
   "language": "python",
   "name": "python3"
  },
  "language_info": {
   "codemirror_mode": {
    "name": "ipython",
    "version": 3
   },
   "file_extension": ".py",
   "mimetype": "text/x-python",
   "name": "python",
   "nbconvert_exporter": "python",
   "pygments_lexer": "ipython3",
   "version": "3.10.9"
  },
  "orig_nbformat": 4,
  "vscode": {
   "interpreter": {
    "hash": "02bf25f710138ee49b3ddc638ac22ef7f7581402656bb204761968b66f422382"
   }
  }
 },
 "nbformat": 4,
 "nbformat_minor": 2
}
